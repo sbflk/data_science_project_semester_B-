{
 "cells": [
  {
   "cell_type": "code",
   "execution_count": 349,
   "metadata": {},
   "outputs": [],
   "source": [
    "import numpy as np\n",
    "import pandas as pd\n",
    "import os\n",
    "from random import shuffle\n",
    "import matplotlib.pyplot as plt\n",
    "from tqdm import tqdm #to be able to look at process of downloading\n",
    "import cv2\n",
    "from sklearn.model_selection import train_test_split\n",
    "from sklearn.pipeline import Pipeline\n",
    "from sklearn.neighbors import KNeighborsClassifier\n",
    "from sklearn.decomposition import PCA\n",
    "from sklearn.metrics import classification_report, confusion_matrix,plot_confusion_matrix\n",
    "from sklearn.preprocessing import StandardScaler\n",
    "from sklearn.model_selection import RandomizedSearchCV\n",
    "from xgboost import XGBClassifier\n",
    "from sklearn.ensemble import RandomForestClassifier,VotingClassifier\n",
    "from sklearn.ensemble import BaggingClassifier"
   ]
  },
  {
   "cell_type": "code",
   "execution_count": 313,
   "metadata": {},
   "outputs": [],
   "source": [
    "#path = 'C:/אריאל נושאי לימוד/סמסטר ב/הדמיית נתונים/cats vs dogs/train'\n",
    "path = 'C:/train'\n",
    "pics = os.listdir(path)\n",
    "IMG_SIZE = 40"
   ]
  },
  {
   "cell_type": "code",
   "execution_count": 314,
   "metadata": {},
   "outputs": [
    {
     "data": {
      "text/plain": [
       "25000"
      ]
     },
     "execution_count": 314,
     "metadata": {},
     "output_type": "execute_result"
    }
   ],
   "source": [
    "len(pics)"
   ]
  },
  {
   "cell_type": "code",
   "execution_count": 315,
   "metadata": {},
   "outputs": [
    {
     "name": "stdout",
     "output_type": "stream",
     "text": [
      "dog pictures:  12500\n",
      "cat pictures:  12500\n"
     ]
    }
   ],
   "source": [
    "def count_pics(pics):\n",
    "    dog_cnt = 0\n",
    "    cat_cnt = 0\n",
    "\n",
    "    for pic in pics:\n",
    "        if pic[0] == 'c':\n",
    "            cat_cnt +=1\n",
    "        else:\n",
    "            dog_cnt +=1\n",
    "\n",
    "    print(\"dog pictures: \", dog_cnt)\n",
    "    print(\"cat pictures: \", cat_cnt)\n",
    "count_pics(pics)"
   ]
  },
  {
   "cell_type": "code",
   "execution_count": 316,
   "metadata": {},
   "outputs": [],
   "source": [
    "def label_image(img):\n",
    "    label = img.split('.')[0]\n",
    "    if label == 'cat':return 1\n",
    "    elif label == 'dog':return 0"
   ]
  },
  {
   "cell_type": "code",
   "execution_count": 317,
   "metadata": {},
   "outputs": [
    {
     "name": "stderr",
     "output_type": "stream",
     "text": [
      "100%|██████████| 25000/25000 [00:40<00:00, 610.78it/s]\n"
     ]
    }
   ],
   "source": [
    "train_data = []\n",
    "labels = []\n",
    "for img in tqdm(os.listdir(path)):\n",
    "    label = label_image(img)\n",
    "    pic_path = os.path.join(path, img)\n",
    "    img = cv2.imread(pic_path,cv2.COLOR_BGR2RGB)\n",
    "    img = cv2.resize(img, (IMG_SIZE,IMG_SIZE))\n",
    "    train_data.append(pd.Series(img.flatten()))\n",
    "    labels.append(label)\n",
    "        \n",
    "        \n",
    "        "
   ]
  },
  {
   "cell_type": "code",
   "execution_count": 318,
   "metadata": {},
   "outputs": [],
   "source": [
    "df = pd.DataFrame(train_data)"
   ]
  },
  {
   "cell_type": "code",
   "execution_count": 319,
   "metadata": {},
   "outputs": [
    {
     "data": {
      "text/html": [
       "<div>\n",
       "<style scoped>\n",
       "    .dataframe tbody tr th:only-of-type {\n",
       "        vertical-align: middle;\n",
       "    }\n",
       "\n",
       "    .dataframe tbody tr th {\n",
       "        vertical-align: top;\n",
       "    }\n",
       "\n",
       "    .dataframe thead th {\n",
       "        text-align: right;\n",
       "    }\n",
       "</style>\n",
       "<table border=\"1\" class=\"dataframe\">\n",
       "  <thead>\n",
       "    <tr style=\"text-align: right;\">\n",
       "      <th></th>\n",
       "      <th>0</th>\n",
       "      <th>1</th>\n",
       "      <th>2</th>\n",
       "      <th>3</th>\n",
       "      <th>4</th>\n",
       "      <th>5</th>\n",
       "      <th>6</th>\n",
       "      <th>7</th>\n",
       "      <th>8</th>\n",
       "      <th>9</th>\n",
       "      <th>...</th>\n",
       "      <th>4790</th>\n",
       "      <th>4791</th>\n",
       "      <th>4792</th>\n",
       "      <th>4793</th>\n",
       "      <th>4794</th>\n",
       "      <th>4795</th>\n",
       "      <th>4796</th>\n",
       "      <th>4797</th>\n",
       "      <th>4798</th>\n",
       "      <th>4799</th>\n",
       "    </tr>\n",
       "  </thead>\n",
       "  <tbody>\n",
       "    <tr>\n",
       "      <th>0</th>\n",
       "      <td>94</td>\n",
       "      <td>171</td>\n",
       "      <td>210</td>\n",
       "      <td>100</td>\n",
       "      <td>178</td>\n",
       "      <td>221</td>\n",
       "      <td>108</td>\n",
       "      <td>186</td>\n",
       "      <td>229</td>\n",
       "      <td>115</td>\n",
       "      <td>...</td>\n",
       "      <td>4</td>\n",
       "      <td>1</td>\n",
       "      <td>3</td>\n",
       "      <td>3</td>\n",
       "      <td>1</td>\n",
       "      <td>3</td>\n",
       "      <td>3</td>\n",
       "      <td>1</td>\n",
       "      <td>3</td>\n",
       "      <td>3</td>\n",
       "    </tr>\n",
       "    <tr>\n",
       "      <th>1</th>\n",
       "      <td>41</td>\n",
       "      <td>41</td>\n",
       "      <td>37</td>\n",
       "      <td>52</td>\n",
       "      <td>50</td>\n",
       "      <td>47</td>\n",
       "      <td>50</td>\n",
       "      <td>51</td>\n",
       "      <td>42</td>\n",
       "      <td>48</td>\n",
       "      <td>...</td>\n",
       "      <td>72</td>\n",
       "      <td>56</td>\n",
       "      <td>69</td>\n",
       "      <td>85</td>\n",
       "      <td>50</td>\n",
       "      <td>54</td>\n",
       "      <td>72</td>\n",
       "      <td>31</td>\n",
       "      <td>36</td>\n",
       "      <td>50</td>\n",
       "    </tr>\n",
       "    <tr>\n",
       "      <th>2</th>\n",
       "      <td>54</td>\n",
       "      <td>47</td>\n",
       "      <td>39</td>\n",
       "      <td>64</td>\n",
       "      <td>56</td>\n",
       "      <td>47</td>\n",
       "      <td>67</td>\n",
       "      <td>59</td>\n",
       "      <td>51</td>\n",
       "      <td>68</td>\n",
       "      <td>...</td>\n",
       "      <td>161</td>\n",
       "      <td>108</td>\n",
       "      <td>145</td>\n",
       "      <td>155</td>\n",
       "      <td>0</td>\n",
       "      <td>173</td>\n",
       "      <td>176</td>\n",
       "      <td>9</td>\n",
       "      <td>190</td>\n",
       "      <td>192</td>\n",
       "    </tr>\n",
       "    <tr>\n",
       "      <th>3</th>\n",
       "      <td>217</td>\n",
       "      <td>222</td>\n",
       "      <td>221</td>\n",
       "      <td>223</td>\n",
       "      <td>226</td>\n",
       "      <td>225</td>\n",
       "      <td>237</td>\n",
       "      <td>237</td>\n",
       "      <td>237</td>\n",
       "      <td>221</td>\n",
       "      <td>...</td>\n",
       "      <td>209</td>\n",
       "      <td>202</td>\n",
       "      <td>204</td>\n",
       "      <td>204</td>\n",
       "      <td>221</td>\n",
       "      <td>222</td>\n",
       "      <td>219</td>\n",
       "      <td>207</td>\n",
       "      <td>212</td>\n",
       "      <td>215</td>\n",
       "    </tr>\n",
       "    <tr>\n",
       "      <th>4</th>\n",
       "      <td>68</td>\n",
       "      <td>104</td>\n",
       "      <td>132</td>\n",
       "      <td>39</td>\n",
       "      <td>77</td>\n",
       "      <td>104</td>\n",
       "      <td>73</td>\n",
       "      <td>113</td>\n",
       "      <td>140</td>\n",
       "      <td>106</td>\n",
       "      <td>...</td>\n",
       "      <td>97</td>\n",
       "      <td>54</td>\n",
       "      <td>77</td>\n",
       "      <td>92</td>\n",
       "      <td>68</td>\n",
       "      <td>97</td>\n",
       "      <td>109</td>\n",
       "      <td>62</td>\n",
       "      <td>88</td>\n",
       "      <td>99</td>\n",
       "    </tr>\n",
       "  </tbody>\n",
       "</table>\n",
       "<p>5 rows × 4800 columns</p>\n",
       "</div>"
      ],
      "text/plain": [
       "   0     1     2     3     4     5     6     7     8     9     ...  4790  \\\n",
       "0    94   171   210   100   178   221   108   186   229   115  ...     4   \n",
       "1    41    41    37    52    50    47    50    51    42    48  ...    72   \n",
       "2    54    47    39    64    56    47    67    59    51    68  ...   161   \n",
       "3   217   222   221   223   226   225   237   237   237   221  ...   209   \n",
       "4    68   104   132    39    77   104    73   113   140   106  ...    97   \n",
       "\n",
       "   4791  4792  4793  4794  4795  4796  4797  4798  4799  \n",
       "0     1     3     3     1     3     3     1     3     3  \n",
       "1    56    69    85    50    54    72    31    36    50  \n",
       "2   108   145   155     0   173   176     9   190   192  \n",
       "3   202   204   204   221   222   219   207   212   215  \n",
       "4    54    77    92    68    97   109    62    88    99  \n",
       "\n",
       "[5 rows x 4800 columns]"
      ]
     },
     "execution_count": 319,
     "metadata": {},
     "output_type": "execute_result"
    }
   ],
   "source": [
    "df.head()"
   ]
  },
  {
   "cell_type": "code",
   "execution_count": 320,
   "metadata": {},
   "outputs": [],
   "source": [
    "label_df = pd.DataFrame(labels, columns = ['label'])"
   ]
  },
  {
   "cell_type": "code",
   "execution_count": 321,
   "metadata": {},
   "outputs": [
    {
     "data": {
      "text/html": [
       "<div>\n",
       "<style scoped>\n",
       "    .dataframe tbody tr th:only-of-type {\n",
       "        vertical-align: middle;\n",
       "    }\n",
       "\n",
       "    .dataframe tbody tr th {\n",
       "        vertical-align: top;\n",
       "    }\n",
       "\n",
       "    .dataframe thead th {\n",
       "        text-align: right;\n",
       "    }\n",
       "</style>\n",
       "<table border=\"1\" class=\"dataframe\">\n",
       "  <thead>\n",
       "    <tr style=\"text-align: right;\">\n",
       "      <th></th>\n",
       "      <th>label</th>\n",
       "    </tr>\n",
       "  </thead>\n",
       "  <tbody>\n",
       "    <tr>\n",
       "      <th>0</th>\n",
       "      <td>1</td>\n",
       "    </tr>\n",
       "    <tr>\n",
       "      <th>1</th>\n",
       "      <td>1</td>\n",
       "    </tr>\n",
       "    <tr>\n",
       "      <th>2</th>\n",
       "      <td>1</td>\n",
       "    </tr>\n",
       "    <tr>\n",
       "      <th>3</th>\n",
       "      <td>1</td>\n",
       "    </tr>\n",
       "    <tr>\n",
       "      <th>4</th>\n",
       "      <td>1</td>\n",
       "    </tr>\n",
       "  </tbody>\n",
       "</table>\n",
       "</div>"
      ],
      "text/plain": [
       "   label\n",
       "0      1\n",
       "1      1\n",
       "2      1\n",
       "3      1\n",
       "4      1"
      ]
     },
     "execution_count": 321,
     "metadata": {},
     "output_type": "execute_result"
    }
   ],
   "source": [
    "label_df.head()"
   ]
  },
  {
   "cell_type": "code",
   "execution_count": 322,
   "metadata": {},
   "outputs": [
    {
     "data": {
      "text/html": [
       "<div>\n",
       "<style scoped>\n",
       "    .dataframe tbody tr th:only-of-type {\n",
       "        vertical-align: middle;\n",
       "    }\n",
       "\n",
       "    .dataframe tbody tr th {\n",
       "        vertical-align: top;\n",
       "    }\n",
       "\n",
       "    .dataframe thead th {\n",
       "        text-align: right;\n",
       "    }\n",
       "</style>\n",
       "<table border=\"1\" class=\"dataframe\">\n",
       "  <thead>\n",
       "    <tr style=\"text-align: right;\">\n",
       "      <th></th>\n",
       "      <th>0</th>\n",
       "      <th>1</th>\n",
       "      <th>2</th>\n",
       "      <th>3</th>\n",
       "      <th>4</th>\n",
       "      <th>5</th>\n",
       "      <th>6</th>\n",
       "      <th>7</th>\n",
       "      <th>8</th>\n",
       "      <th>9</th>\n",
       "      <th>...</th>\n",
       "      <th>4791</th>\n",
       "      <th>4792</th>\n",
       "      <th>4793</th>\n",
       "      <th>4794</th>\n",
       "      <th>4795</th>\n",
       "      <th>4796</th>\n",
       "      <th>4797</th>\n",
       "      <th>4798</th>\n",
       "      <th>4799</th>\n",
       "      <th>label</th>\n",
       "    </tr>\n",
       "  </thead>\n",
       "  <tbody>\n",
       "    <tr>\n",
       "      <th>0</th>\n",
       "      <td>94</td>\n",
       "      <td>171</td>\n",
       "      <td>210</td>\n",
       "      <td>100</td>\n",
       "      <td>178</td>\n",
       "      <td>221</td>\n",
       "      <td>108</td>\n",
       "      <td>186</td>\n",
       "      <td>229</td>\n",
       "      <td>115</td>\n",
       "      <td>...</td>\n",
       "      <td>1</td>\n",
       "      <td>3</td>\n",
       "      <td>3</td>\n",
       "      <td>1</td>\n",
       "      <td>3</td>\n",
       "      <td>3</td>\n",
       "      <td>1</td>\n",
       "      <td>3</td>\n",
       "      <td>3</td>\n",
       "      <td>1</td>\n",
       "    </tr>\n",
       "    <tr>\n",
       "      <th>1</th>\n",
       "      <td>41</td>\n",
       "      <td>41</td>\n",
       "      <td>37</td>\n",
       "      <td>52</td>\n",
       "      <td>50</td>\n",
       "      <td>47</td>\n",
       "      <td>50</td>\n",
       "      <td>51</td>\n",
       "      <td>42</td>\n",
       "      <td>48</td>\n",
       "      <td>...</td>\n",
       "      <td>56</td>\n",
       "      <td>69</td>\n",
       "      <td>85</td>\n",
       "      <td>50</td>\n",
       "      <td>54</td>\n",
       "      <td>72</td>\n",
       "      <td>31</td>\n",
       "      <td>36</td>\n",
       "      <td>50</td>\n",
       "      <td>1</td>\n",
       "    </tr>\n",
       "    <tr>\n",
       "      <th>2</th>\n",
       "      <td>54</td>\n",
       "      <td>47</td>\n",
       "      <td>39</td>\n",
       "      <td>64</td>\n",
       "      <td>56</td>\n",
       "      <td>47</td>\n",
       "      <td>67</td>\n",
       "      <td>59</td>\n",
       "      <td>51</td>\n",
       "      <td>68</td>\n",
       "      <td>...</td>\n",
       "      <td>108</td>\n",
       "      <td>145</td>\n",
       "      <td>155</td>\n",
       "      <td>0</td>\n",
       "      <td>173</td>\n",
       "      <td>176</td>\n",
       "      <td>9</td>\n",
       "      <td>190</td>\n",
       "      <td>192</td>\n",
       "      <td>1</td>\n",
       "    </tr>\n",
       "    <tr>\n",
       "      <th>3</th>\n",
       "      <td>217</td>\n",
       "      <td>222</td>\n",
       "      <td>221</td>\n",
       "      <td>223</td>\n",
       "      <td>226</td>\n",
       "      <td>225</td>\n",
       "      <td>237</td>\n",
       "      <td>237</td>\n",
       "      <td>237</td>\n",
       "      <td>221</td>\n",
       "      <td>...</td>\n",
       "      <td>202</td>\n",
       "      <td>204</td>\n",
       "      <td>204</td>\n",
       "      <td>221</td>\n",
       "      <td>222</td>\n",
       "      <td>219</td>\n",
       "      <td>207</td>\n",
       "      <td>212</td>\n",
       "      <td>215</td>\n",
       "      <td>1</td>\n",
       "    </tr>\n",
       "    <tr>\n",
       "      <th>4</th>\n",
       "      <td>68</td>\n",
       "      <td>104</td>\n",
       "      <td>132</td>\n",
       "      <td>39</td>\n",
       "      <td>77</td>\n",
       "      <td>104</td>\n",
       "      <td>73</td>\n",
       "      <td>113</td>\n",
       "      <td>140</td>\n",
       "      <td>106</td>\n",
       "      <td>...</td>\n",
       "      <td>54</td>\n",
       "      <td>77</td>\n",
       "      <td>92</td>\n",
       "      <td>68</td>\n",
       "      <td>97</td>\n",
       "      <td>109</td>\n",
       "      <td>62</td>\n",
       "      <td>88</td>\n",
       "      <td>99</td>\n",
       "      <td>1</td>\n",
       "    </tr>\n",
       "  </tbody>\n",
       "</table>\n",
       "<p>5 rows × 4801 columns</p>\n",
       "</div>"
      ],
      "text/plain": [
       "     0    1    2    3    4    5    6    7    8    9  ...  4791  4792  4793  \\\n",
       "0   94  171  210  100  178  221  108  186  229  115  ...     1     3     3   \n",
       "1   41   41   37   52   50   47   50   51   42   48  ...    56    69    85   \n",
       "2   54   47   39   64   56   47   67   59   51   68  ...   108   145   155   \n",
       "3  217  222  221  223  226  225  237  237  237  221  ...   202   204   204   \n",
       "4   68  104  132   39   77  104   73  113  140  106  ...    54    77    92   \n",
       "\n",
       "   4794  4795  4796  4797  4798  4799  label  \n",
       "0     1     3     3     1     3     3      1  \n",
       "1    50    54    72    31    36    50      1  \n",
       "2     0   173   176     9   190   192      1  \n",
       "3   221   222   219   207   212   215      1  \n",
       "4    68    97   109    62    88    99      1  \n",
       "\n",
       "[5 rows x 4801 columns]"
      ]
     },
     "execution_count": 322,
     "metadata": {},
     "output_type": "execute_result"
    }
   ],
   "source": [
    "df = pd.concat([df,label_df],axis=1)\n",
    "df.head()"
   ]
  },
  {
   "cell_type": "code",
   "execution_count": 323,
   "metadata": {},
   "outputs": [],
   "source": [
    "x = df.drop('label',axis=1)\n",
    "y = df['label']"
   ]
  },
  {
   "cell_type": "code",
   "execution_count": 324,
   "metadata": {},
   "outputs": [],
   "source": [
    "x_train,x_test,y_train,y_test = train_test_split(x, y, test_size = 0.15,random_state = 42)"
   ]
  },
  {
   "cell_type": "markdown",
   "metadata": {},
   "source": [
    "## PCA"
   ]
  },
  {
   "cell_type": "code",
   "execution_count": 325,
   "metadata": {},
   "outputs": [],
   "source": [
    "pca = PCA(n_components = 0.9)\n",
    "x_train_pca = pca.fit_transform(x_train)\n",
    "x_test_pca = pca.fit_transform(x_test)"
   ]
  },
  {
   "cell_type": "code",
   "execution_count": 326,
   "metadata": {},
   "outputs": [
    {
     "name": "stdout",
     "output_type": "stream",
     "text": [
      "286\n"
     ]
    },
    {
     "data": {
      "image/png": "[encoded data removed]",
      "text/plain": [
       "<Figure size 432x288 with 1 Axes>"
      ]
     },
     "metadata": {
      "needs_background": "light"
     },
     "output_type": "display_data"
    }
   ],
   "source": [
    "plt.plot(np.cumsum(pca.explained_variance_ratio_))\n",
    "print(pca.n_components_)"
   ]
  },
  {
   "cell_type": "code",
   "execution_count": 327,
   "metadata": {},
   "outputs": [],
   "source": [
    "scaling_pipeline = Pipeline(\n",
    "[\n",
    "    ('std_scaler', StandardScaler()),\n",
    "    ('PCA',PCA(n_components = 0.9))\n",
    "])\n",
    "\n",
    "x_train = scaling_pipeline.fit_transform(x_train)\n",
    "x_test = scaling_pipeline.transform(x_test)"
   ]
  },
  {
   "cell_type": "markdown",
   "metadata": {},
   "source": [
    "## Random Forest"
   ]
  },
  {
   "cell_type": "code",
   "execution_count": 328,
   "metadata": {},
   "outputs": [
    {
     "data": {
      "text/plain": [
       "RandomForestClassifier(n_estimators=200, n_jobs=-1, random_state=2)"
      ]
     },
     "execution_count": 328,
     "metadata": {},
     "output_type": "execute_result"
    }
   ],
   "source": [
    "rf = RandomForestClassifier(n_estimators = 200,random_state = 2, n_jobs = -1)\n",
    "rf.fit(x_train, y_train)"
   ]
  },
  {
   "cell_type": "code",
   "execution_count": 329,
   "metadata": {},
   "outputs": [
    {
     "data": {
      "text/plain": [
       "0.6341333333333333"
      ]
     },
     "execution_count": 329,
     "metadata": {},
     "output_type": "execute_result"
    }
   ],
   "source": [
    "rf.score(x_test,y_test)"
   ]
  },
  {
   "cell_type": "code",
   "execution_count": 344,
   "metadata": {},
   "outputs": [
    {
     "data": {
      "text/plain": [
       "<sklearn.metrics._plot.confusion_matrix.ConfusionMatrixDisplay at 0x2ac4fcc2e80>"
      ]
     },
     "execution_count": 344,
     "metadata": {},
     "output_type": "execute_result"
    },
    {
     "data": {
      "image/png": "[encoded data removed]",
      "text/plain": [
       "<Figure size 720x720 with 2 Axes>"
      ]
     },
     "metadata": {
      "needs_background": "light"
     },
     "output_type": "display_data"
    }
   ],
   "source": [
    "f, ax = plt.subplots(1, 1)\n",
    "f.set_size_inches(10,10)\n",
    "plot_confusion_matrix(rf,x_test,y_test,ax=ax)"
   ]
  },
  {
   "cell_type": "markdown",
   "metadata": {},
   "source": [
    "### Tuning"
   ]
  },
  {
   "cell_type": "code",
   "execution_count": 330,
   "metadata": {},
   "outputs": [
    {
     "data": {
      "text/plain": [
       "RandomizedSearchCV(estimator=RandomForestClassifier(), n_iter=3, n_jobs=-1,\n",
       "                   param_distributions={'max_depth': [20, 40, 60],\n",
       "                                        'max_features': ['auto', 'sqrt', 'log'],\n",
       "                                        'n_estimators': [100, 200, 300]},\n",
       "                   return_train_score=True, scoring='accuracy')"
      ]
     },
     "execution_count": 330,
     "metadata": {},
     "output_type": "execute_result"
    }
   ],
   "source": [
    "forest_params = {\n",
    "    'n_estimators':[100,200,300],\n",
    "    'max_depth':[20,40,60],\n",
    "    'max_features':['auto','sqrt','log']\n",
    "}\n",
    "rnd_grid_search = RandomizedSearchCV(RandomForestClassifier(),\n",
    "                                    forest_params,\n",
    "                                     n_jobs = -1,\n",
    "                                     n_iter = 3,\n",
    "                                     scoring = 'accuracy',\n",
    "                                     return_train_score = True\n",
    "                                    )\n",
    "\n",
    "rnd_grid_search.fit(x_train,y_train)"
   ]
  },
  {
   "cell_type": "code",
   "execution_count": 331,
   "metadata": {},
   "outputs": [
    {
     "data": {
      "text/plain": [
       "RandomForestClassifier(max_depth=60, max_features='sqrt')"
      ]
     },
     "execution_count": 331,
     "metadata": {},
     "output_type": "execute_result"
    }
   ],
   "source": [
    "rnd_grid_search.best_estimator_"
   ]
  },
  {
   "cell_type": "code",
   "execution_count": 332,
   "metadata": {},
   "outputs": [
    {
     "data": {
      "text/plain": [
       "0.6201882352941176"
      ]
     },
     "execution_count": 332,
     "metadata": {},
     "output_type": "execute_result"
    }
   ],
   "source": [
    "rnd_grid_search.best_score_"
   ]
  },
  {
   "cell_type": "markdown",
   "metadata": {},
   "source": [
    "## KNN"
   ]
  },
  {
   "cell_type": "code",
   "execution_count": 336,
   "metadata": {},
   "outputs": [
    {
     "name": "stdout",
     "output_type": "stream",
     "text": [
      "n= 10  accuracy:  0.6016\n",
      "n= 11  accuracy:  0.6085333333333334\n",
      "n= 12  accuracy:  0.6072\n",
      "n= 13  accuracy:  0.6122666666666666\n",
      "n= 14  accuracy:  0.6112\n",
      "n= 15  accuracy:  0.6128\n",
      "n= 16  accuracy:  0.6104\n",
      "n= 17  accuracy:  0.6181333333333333\n",
      "n= 18  accuracy:  0.6109333333333333\n",
      "n= 19  accuracy:  0.6170666666666667\n",
      "n= 20  accuracy:  0.6133333333333333\n",
      "n= 21  accuracy:  0.6152\n",
      "n= 22  accuracy:  0.6133333333333333\n",
      "n= 23  accuracy:  0.6173333333333333\n",
      "n= 24  accuracy:  0.6114666666666667\n",
      "n= 25  accuracy:  0.6170666666666667\n",
      "n= 26  accuracy:  0.6152\n",
      "n= 27  accuracy:  0.6208\n",
      "n= 28  accuracy:  0.6168\n",
      "n= 29  accuracy:  0.6184\n",
      "n= 30  accuracy:  0.6141333333333333\n"
     ]
    }
   ],
   "source": [
    "scores = []\n",
    "for i in range(10,31):\n",
    "    knn = KNeighborsClassifier(n_neighbors=i, n_jobs = -1)\n",
    "    knn.fit(x_train,y_train)\n",
    "    scores.append(knn.score(x_test,y_test))\n",
    "    print(\"n=\",i, \" accuracy: \", knn.score(x_test,y_test))"
   ]
  },
  {
   "cell_type": "code",
   "execution_count": 338,
   "metadata": {},
   "outputs": [
    {
     "data": {
      "text/plain": [
       "[<matplotlib.lines.Line2D at 0x2ac4fffb640>]"
      ]
     },
     "execution_count": 338,
     "metadata": {},
     "output_type": "execute_result"
    },
    {
     "data": {
      "image/png": "[encoded data removed]",
      "text/plain": [
       "<Figure size 432x288 with 1 Axes>"
      ]
     },
     "metadata": {
      "needs_background": "light"
     },
     "output_type": "display_data"
    }
   ],
   "source": [
    "plt.plot(list(range(10,31)),scores)"
   ]
  },
  {
   "cell_type": "code",
   "execution_count": 339,
   "metadata": {},
   "outputs": [
    {
     "data": {
      "text/plain": [
       "0.6141333333333333"
      ]
     },
     "execution_count": 339,
     "metadata": {},
     "output_type": "execute_result"
    }
   ],
   "source": [
    "top_knn = KNeighborsClassifier(n_neighbors=27, n_jobs = -1)\n",
    "top_knn.fit(x_train,y_train)\n",
    "knn.score(x_test,y_test)"
   ]
  },
  {
   "cell_type": "markdown",
   "metadata": {},
   "source": [
    "## XGBOOST"
   ]
  },
  {
   "cell_type": "code",
   "execution_count": 340,
   "metadata": {},
   "outputs": [
    {
     "name": "stderr",
     "output_type": "stream",
     "text": [
      "C:\\Users\\User\\anaconda3\\lib\\site-packages\\xgboost\\sklearn.py:1146: UserWarning: The use of label encoder in XGBClassifier is deprecated and will be removed in a future release. To remove this warning, do the following: 1) Pass option use_label_encoder=False when constructing XGBClassifier object; and 2) Encode your labels (y) as integers starting with 0, i.e. 0, 1, 2, ..., [num_class - 1].\n",
      "  warnings.warn(label_encoder_deprecation_msg, UserWarning)\n"
     ]
    },
    {
     "name": "stdout",
     "output_type": "stream",
     "text": [
      "[22:49:30] WARNING: C:/Users/Administrator/workspace/xgboost-win64_release_1.4.0/src/learner.cc:1095: Starting in XGBoost 1.3.0, the default evaluation metric used with the objective 'binary:logistic' was changed from 'error' to 'logloss'. Explicitly set eval_metric if you'd like to restore the old behavior.\n"
     ]
    },
    {
     "data": {
      "text/plain": [
       "0.6512"
      ]
     },
     "execution_count": 340,
     "metadata": {},
     "output_type": "execute_result"
    }
   ],
   "source": [
    "xgb = XGBClassifier(n_jobs = -1)\n",
    "xgb.fit(x_train, y_train)\n",
    "\n",
    "xgb.score(x_test,y_test)"
   ]
  },
  {
   "cell_type": "code",
   "execution_count": 346,
   "metadata": {},
   "outputs": [
    {
     "name": "stdout",
     "output_type": "stream",
     "text": [
      "              precision    recall  f1-score   support\n",
      "\n",
      "           0       0.64      0.65      0.64      1808\n",
      "           1       0.67      0.65      0.66      1942\n",
      "\n",
      "    accuracy                           0.65      3750\n",
      "   macro avg       0.65      0.65      0.65      3750\n",
      "weighted avg       0.65      0.65      0.65      3750\n",
      "\n"
     ]
    }
   ],
   "source": [
    "print(classification_report(xgb.predict(x_test),y_test))"
   ]
  },
  {
   "cell_type": "code",
   "execution_count": 345,
   "metadata": {},
   "outputs": [
    {
     "data": {
      "text/plain": [
       "<sklearn.metrics._plot.confusion_matrix.ConfusionMatrixDisplay at 0x2aca7ae3c40>"
      ]
     },
     "execution_count": 345,
     "metadata": {},
     "output_type": "execute_result"
    },
    {
     "data": {
      "image/png": "[encoded data removed]",
      "text/plain": [
       "<Figure size 720x720 with 2 Axes>"
      ]
     },
     "metadata": {
      "needs_background": "light"
     },
     "output_type": "display_data"
    }
   ],
   "source": [
    "f, ax = plt.subplots(1, 1)\n",
    "f.set_size_inches(10,10)\n",
    "plot_confusion_matrix(xgb,x_test,y_test,ax=ax)"
   ]
  },
  {
   "cell_type": "markdown",
   "metadata": {},
   "source": [
    "### Tuning"
   ]
  },
  {
   "cell_type": "code",
   "execution_count": 341,
   "metadata": {},
   "outputs": [
    {
     "name": "stderr",
     "output_type": "stream",
     "text": [
      "C:\\Users\\User\\anaconda3\\lib\\site-packages\\xgboost\\sklearn.py:1146: UserWarning: The use of label encoder in XGBClassifier is deprecated and will be removed in a future release. To remove this warning, do the following: 1) Pass option use_label_encoder=False when constructing XGBClassifier object; and 2) Encode your labels (y) as integers starting with 0, i.e. 0, 1, 2, ..., [num_class - 1].\n",
      "  warnings.warn(label_encoder_deprecation_msg, UserWarning)\n"
     ]
    },
    {
     "name": "stdout",
     "output_type": "stream",
     "text": [
      "[22:52:38] WARNING: C:/Users/Administrator/workspace/xgboost-win64_release_1.4.0/src/learner.cc:1095: Starting in XGBoost 1.3.0, the default evaluation metric used with the objective 'binary:logistic' was changed from 'error' to 'logloss'. Explicitly set eval_metric if you'd like to restore the old behavior.\n"
     ]
    },
    {
     "data": {
      "text/plain": [
       "RandomizedSearchCV(estimator=XGBClassifier(base_score=None, booster=None,\n",
       "                                           colsample_bylevel=None,\n",
       "                                           colsample_bynode=None,\n",
       "                                           colsample_bytree=None, gamma=None,\n",
       "                                           gpu_id=None, importance_type='gain',\n",
       "                                           interaction_constraints=None,\n",
       "                                           learning_rate=None,\n",
       "                                           max_delta_step=None, max_depth=None,\n",
       "                                           min_child_weight=None, missing=nan,\n",
       "                                           monotone_constraints=None,\n",
       "                                           n_estimators=100, n_jobs=None,\n",
       "                                           num_parallel_tree=None,\n",
       "                                           random_state=None, reg_alpha=None,\n",
       "                                           reg_lambda=None,\n",
       "                                           scale_pos_weight=None,\n",
       "                                           subsample=None, tree_method=None,\n",
       "                                           validate_parameters=None,\n",
       "                                           verbosity=None),\n",
       "                   n_iter=1, n_jobs=-1,\n",
       "                   param_distributions={'learning_rate': [0.01, 0.1],\n",
       "                                        'max_depth': [3, 6, 9],\n",
       "                                        'n_estimators': [100, 200]},\n",
       "                   return_train_score=True, scoring='accuracy')"
      ]
     },
     "execution_count": 341,
     "metadata": {},
     "output_type": "execute_result"
    }
   ],
   "source": [
    "xgb_params = {\n",
    "    'n_estimators': [100,200],\n",
    "    'max_depth': [3,6,9],\n",
    "    'learning_rate': [0.01,0.1]\n",
    "    \n",
    "}\n",
    "xgb_rnd_grid_search = RandomizedSearchCV(XGBClassifier(),\n",
    "                                        xgb_params,\n",
    "                                        n_jobs = -1,\n",
    "                                         n_iter = 1,\n",
    "                                        scoring = 'accuracy',\n",
    "                                        return_train_score = True)\n",
    "\n",
    "xgb_rnd_grid_search.fit(x_train,y_train)"
   ]
  },
  {
   "cell_type": "code",
   "execution_count": 342,
   "metadata": {},
   "outputs": [
    {
     "data": {
      "text/plain": [
       "XGBClassifier(base_score=0.5, booster='gbtree', colsample_bylevel=1,\n",
       "              colsample_bynode=1, colsample_bytree=1, gamma=0, gpu_id=-1,\n",
       "              importance_type='gain', interaction_constraints='',\n",
       "              learning_rate=0.01, max_delta_step=0, max_depth=3,\n",
       "              min_child_weight=1, missing=nan, monotone_constraints='()',\n",
       "              n_estimators=100, n_jobs=8, num_parallel_tree=1, random_state=0,\n",
       "              reg_alpha=0, reg_lambda=1, scale_pos_weight=1, subsample=1,\n",
       "              tree_method='exact', validate_parameters=1, verbosity=None)"
      ]
     },
     "execution_count": 342,
     "metadata": {},
     "output_type": "execute_result"
    }
   ],
   "source": [
    "xgb_rnd_grid_search.best_estimator_"
   ]
  },
  {
   "cell_type": "code",
   "execution_count": 343,
   "metadata": {},
   "outputs": [
    {
     "data": {
      "text/plain": [
       "0.5890823529411765"
      ]
     },
     "execution_count": 343,
     "metadata": {},
     "output_type": "execute_result"
    }
   ],
   "source": [
    "xgb_rnd_grid_search.best_score_"
   ]
  },
  {
   "cell_type": "markdown",
   "metadata": {},
   "source": [
    "## Voting"
   ]
  },
  {
   "cell_type": "code",
   "execution_count": 347,
   "metadata": {},
   "outputs": [
    {
     "data": {
      "text/plain": [
       "VotingClassifier(estimators=[('knn',\n",
       "                              KNeighborsClassifier(n_jobs=-1, n_neighbors=27)),\n",
       "                             ('rf',\n",
       "                              RandomForestClassifier(n_estimators=200,\n",
       "                                                     n_jobs=-1,\n",
       "                                                     random_state=2)),\n",
       "                             ('xgb',\n",
       "                              XGBClassifier(base_score=0.5, booster='gbtree',\n",
       "                                            colsample_bylevel=1,\n",
       "                                            colsample_bynode=1,\n",
       "                                            colsample_bytree=1, gamma=0,\n",
       "                                            gpu_id=-1, importance_type='gain',\n",
       "                                            interaction_constraints='',\n",
       "                                            learning_rate=0.300000012,\n",
       "                                            max_delta_step=0, max_depth=6,\n",
       "                                            min_child_weight=1, missing=nan,\n",
       "                                            monotone_constraints='()',\n",
       "                                            n_estimators=100, n_jobs=-1,\n",
       "                                            num_parallel_tree=1, random_state=0,\n",
       "                                            reg_alpha=0, reg_lambda=1,\n",
       "                                            scale_pos_weight=1, subsample=1,\n",
       "                                            tree_method='exact',\n",
       "                                            validate_parameters=1,\n",
       "                                            verbosity=None))],\n",
       "                 n_jobs=-1, voting='soft', weights=[1, 2, 4])"
      ]
     },
     "execution_count": 347,
     "metadata": {},
     "output_type": "execute_result"
    }
   ],
   "source": [
    "voting_clf = VotingClassifier(\n",
    "    estimators=[('knn',top_knn),('rf',rf),('xgb',xgb)],\n",
    "    voting = 'soft',\n",
    "    weights=[1,2,4],\n",
    "    n_jobs=-1\n",
    ")\n",
    "voting_clf.fit(x_train,y_train)"
   ]
  },
  {
   "cell_type": "code",
   "execution_count": 348,
   "metadata": {},
   "outputs": [
    {
     "data": {
      "text/plain": [
       "0.6621333333333334"
      ]
     },
     "execution_count": 348,
     "metadata": {},
     "output_type": "execute_result"
    }
   ],
   "source": [
    "voting_clf.score(x_test,y_test)"
   ]
  },
  {
   "cell_type": "markdown",
   "metadata": {},
   "source": [
    "## bagging on voting classifier"
   ]
  },
  {
   "cell_type": "markdown",
   "metadata": {},
   "source": [
    "### need to create new voting classifier because knn doesnt support sample weights"
   ]
  },
  {
   "cell_type": "code",
   "execution_count": 352,
   "metadata": {},
   "outputs": [
    {
     "data": {
      "text/plain": [
       "VotingClassifier(estimators=[('rf',\n",
       "                              RandomForestClassifier(n_estimators=200,\n",
       "                                                     n_jobs=-1,\n",
       "                                                     random_state=2)),\n",
       "                             ('xgb',\n",
       "                              XGBClassifier(base_score=0.5, booster='gbtree',\n",
       "                                            colsample_bylevel=1,\n",
       "                                            colsample_bynode=1,\n",
       "                                            colsample_bytree=1, gamma=0,\n",
       "                                            gpu_id=-1, importance_type='gain',\n",
       "                                            interaction_constraints='',\n",
       "                                            learning_rate=0.300000012,\n",
       "                                            max_delta_step=0, max_depth=6,\n",
       "                                            min_child_weight=1, missing=nan,\n",
       "                                            monotone_constraints='()',\n",
       "                                            n_estimators=100, n_jobs=-1,\n",
       "                                            num_parallel_tree=1, random_state=0,\n",
       "                                            reg_alpha=0, reg_lambda=1,\n",
       "                                            scale_pos_weight=1, subsample=1,\n",
       "                                            tree_method='exact',\n",
       "                                            validate_parameters=1,\n",
       "                                            verbosity=None))],\n",
       "                 n_jobs=-1, voting='soft', weights=[1, 2])"
      ]
     },
     "execution_count": 352,
     "metadata": {},
     "output_type": "execute_result"
    }
   ],
   "source": [
    "voting_clf_for_bagging = VotingClassifier(\n",
    "    estimators=[('rf',rf),('xgb',xgb)],\n",
    "    voting = 'soft',\n",
    "    weights=[1,2],\n",
    "    n_jobs=-1\n",
    ")\n",
    "voting_clf_for_bagging.fit(x_train,y_train)"
   ]
  },
  {
   "cell_type": "code",
   "execution_count": 353,
   "metadata": {},
   "outputs": [
    {
     "data": {
      "text/plain": [
       "0.6565333333333333"
      ]
     },
     "execution_count": 353,
     "metadata": {},
     "output_type": "execute_result"
    }
   ],
   "source": [
    "voting_clf_for_bagging.score(x_test,y_test)"
   ]
  },
  {
   "cell_type": "code",
   "execution_count": 354,
   "metadata": {},
   "outputs": [
    {
     "data": {
      "text/plain": [
       "BaggingClassifier(base_estimator=VotingClassifier(estimators=[('rf',\n",
       "                                                               RandomForestClassifier(n_estimators=200,\n",
       "                                                                                      n_jobs=-1,\n",
       "                                                                                      random_state=2)),\n",
       "                                                              ('xgb',\n",
       "                                                               XGBClassifier(base_score=0.5,\n",
       "                                                                             booster='gbtree',\n",
       "                                                                             colsample_bylevel=1,\n",
       "                                                                             colsample_bynode=1,\n",
       "                                                                             colsample_bytree=1,\n",
       "                                                                             gamma=0,\n",
       "                                                                             gpu_id=-1,\n",
       "                                                                             importance_type='gain',\n",
       "                                                                             interaction_constraints='',\n",
       "                                                                             learning_rate=0.300000012,\n",
       "                                                                             max_delta_step=0,\n",
       "                                                                             max_depth=6,\n",
       "                                                                             min_child_weight=1,\n",
       "                                                                             missing=nan,\n",
       "                                                                             monotone_constraints='()',\n",
       "                                                                             n_estimators=100,\n",
       "                                                                             n_jobs=-1,\n",
       "                                                                             num_parallel_tree=1,\n",
       "                                                                             random_state=0,\n",
       "                                                                             reg_alpha=0,\n",
       "                                                                             reg_lambda=1,\n",
       "                                                                             scale_pos_weight=1,\n",
       "                                                                             subsample=1,\n",
       "                                                                             tree_method='exact',\n",
       "                                                                             validate_parameters=1,\n",
       "                                                                             verbosity=None))],\n",
       "                                                  n_jobs=-1, voting='soft',\n",
       "                                                  weights=[1, 2]),\n",
       "                  n_jobs=-1)"
      ]
     },
     "execution_count": 354,
     "metadata": {},
     "output_type": "execute_result"
    }
   ],
   "source": [
    "bagging = BaggingClassifier(base_estimator=voting_clf_for_bagging,n_jobs=-1)\n",
    "bagging.fit(x_train,y_train)"
   ]
  },
  {
   "cell_type": "code",
   "execution_count": 355,
   "metadata": {},
   "outputs": [
    {
     "data": {
      "text/plain": [
       "0.6741333333333334"
      ]
     },
     "execution_count": 355,
     "metadata": {},
     "output_type": "execute_result"
    }
   ],
   "source": [
    "bagging.score(x_test,y_test)"
   ]
  },
  {
   "cell_type": "markdown",
   "metadata": {},
   "source": [
    "### the bagging classifier ended up being the best model with 67.4% accuracy"
   ]
  },
  {
   "cell_type": "code",
   "execution_count": null,
   "metadata": {},
   "outputs": [],
   "source": []
  }
 ],
 "metadata": {
  "kernelspec": {
   "display_name": "Python 3",
   "language": "python",
   "name": "python3"
  },
  "language_info": {
   "codemirror_mode": {
    "name": "ipython",
    "version": 3
   },
   "file_extension": ".py",
   "mimetype": "text/x-python",
   "name": "python",
   "nbconvert_exporter": "python",
   "pygments_lexer": "ipython3",
   "version": "3.8.3"
  }
 },
 "nbformat": 4,
 "nbformat_minor": 4
}
